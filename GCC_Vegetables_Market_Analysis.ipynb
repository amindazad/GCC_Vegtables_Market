{
  "nbformat": 4,
  "nbformat_minor": 0,
  "metadata": {
    "colab": {
      "name": "GCC_Vegetables_Market_Analysis.ipynb",
      "provenance": [],
      "authorship_tag": "ABX9TyNF7DK6+5FZALbRz3B4cHxV",
      "include_colab_link": true
    },
    "kernelspec": {
      "name": "python3",
      "display_name": "Python 3"
    }
  },
  "cells": [
    {
      "cell_type": "markdown",
      "metadata": {
        "id": "view-in-github",
        "colab_type": "text"
      },
      "source": [
        "<a href=\"https://colab.research.google.com/github/amindazad/GCC_Vegtables_Market/blob/main/GCC_Vegetables_Market_Analysis.ipynb\" target=\"_parent\"><img src=\"https://colab.research.google.com/assets/colab-badge.svg\" alt=\"Open In Colab\"/></a>"
      ]
    },
    {
      "cell_type": "code",
      "metadata": {
        "id": "sHW7pTWwCBRX"
      },
      "source": [
        "# Import required libraries\n",
        "import pandas as pd\n",
        "import numpy as np"
      ],
      "execution_count": 45,
      "outputs": []
    },
    {
      "cell_type": "code",
      "metadata": {
        "id": "MQXoZXi8CUlQ"
      },
      "source": [
        "UAE = pd.read_csv(\"https://raw.githubusercontent.com/amindazad/GCC_Vegtables_Market/main/UAE_Vegtables_Trade_Statistics_2015_2019.csv\", header=0)\n",
        "Saudi = pd.read_csv(\"https://raw.githubusercontent.com/amindazad/GCC_Vegtables_Market/main/Saudi_Vegtables_Trade_Statistics_2015-2019.csv\", header=0)\n",
        "Qatar = pd.read_csv(\"https://raw.githubusercontent.com/amindazad/GCC_Vegtables_Market/main/Qatar_Vetables_Trade_Statistics_2015_2019.csv\", header=0)\n",
        "Oman = pd.read_csv(\"https://raw.githubusercontent.com/amindazad/GCC_Vegtables_Market/main/Oman_Vegtables_Trade_Statistics_2015_2019.csv\", header=0)\n",
        "Kuwait = pd.read_csv(\"https://raw.githubusercontent.com/amindazad/GCC_Vegtables_Market/main/Kuwait_Vegtables_Trade_Statistics_2015_2019.csv\", header=0)\n",
        "Bahrain = pd.read_csv(\"https://raw.githubusercontent.com/amindazad/GCC_Vegtables_Market/main/Bahrain_Vegtables_Trade_Statistics_2015_2019.csv\", header=0)"
      ],
      "execution_count": 46,
      "outputs": []
    },
    {
      "cell_type": "code",
      "metadata": {
        "colab": {
          "base_uri": "https://localhost:8080/",
          "height": 221
        },
        "id": "Md5n4hrdCfFW",
        "outputId": "39d27222-1d7b-414c-c294-e5fce16a4b9c"
      },
      "source": [
        "print(UAE.shape)\n",
        "UAE.head()"
      ],
      "execution_count": 47,
      "outputs": [
        {
          "output_type": "stream",
          "text": [
            "(71, 8)\n"
          ],
          "name": "stdout"
        },
        {
          "output_type": "execute_result",
          "data": {
            "text/html": [
              "<div>\n",
              "<style scoped>\n",
              "    .dataframe tbody tr th:only-of-type {\n",
              "        vertical-align: middle;\n",
              "    }\n",
              "\n",
              "    .dataframe tbody tr th {\n",
              "        vertical-align: top;\n",
              "    }\n",
              "\n",
              "    .dataframe thead th {\n",
              "        text-align: right;\n",
              "    }\n",
              "</style>\n",
              "<table border=\"1\" class=\"dataframe\">\n",
              "  <thead>\n",
              "    <tr style=\"text-align: right;\">\n",
              "      <th></th>\n",
              "      <th>Country</th>\n",
              "      <th>Code</th>\n",
              "      <th>Product label</th>\n",
              "      <th>Imported value in 2015</th>\n",
              "      <th>Imported value in 2016</th>\n",
              "      <th>Imported value in 2017</th>\n",
              "      <th>Imported value in 2018</th>\n",
              "      <th>Imported value in 2019</th>\n",
              "    </tr>\n",
              "  </thead>\n",
              "  <tbody>\n",
              "    <tr>\n",
              "      <th>0</th>\n",
              "      <td>UAE</td>\n",
              "      <td>'071340</td>\n",
              "      <td>Dried, shelled lentils, whether or not skinned...</td>\n",
              "      <td>188755</td>\n",
              "      <td>175534</td>\n",
              "      <td>209892</td>\n",
              "      <td>103223</td>\n",
              "      <td>114192</td>\n",
              "    </tr>\n",
              "    <tr>\n",
              "      <th>1</th>\n",
              "      <td>UAE</td>\n",
              "      <td>'070999</td>\n",
              "      <td>Fresh or chilled vegetables n.e.s.</td>\n",
              "      <td>116338</td>\n",
              "      <td>110513</td>\n",
              "      <td>109182</td>\n",
              "      <td>100864</td>\n",
              "      <td>98916</td>\n",
              "    </tr>\n",
              "    <tr>\n",
              "      <th>2</th>\n",
              "      <td>UAE</td>\n",
              "      <td>'070310</td>\n",
              "      <td>Fresh or chilled onions and shallots</td>\n",
              "      <td>123905</td>\n",
              "      <td>88588</td>\n",
              "      <td>114034</td>\n",
              "      <td>90827</td>\n",
              "      <td>89108</td>\n",
              "    </tr>\n",
              "    <tr>\n",
              "      <th>3</th>\n",
              "      <td>UAE</td>\n",
              "      <td>'070200</td>\n",
              "      <td>Tomatoes, fresh or chilled</td>\n",
              "      <td>128674</td>\n",
              "      <td>127201</td>\n",
              "      <td>115782</td>\n",
              "      <td>100664</td>\n",
              "      <td>86473</td>\n",
              "    </tr>\n",
              "    <tr>\n",
              "      <th>4</th>\n",
              "      <td>UAE</td>\n",
              "      <td>'071320</td>\n",
              "      <td>Dried, shelled chickpeas \"garbanzos\", whether ...</td>\n",
              "      <td>72242</td>\n",
              "      <td>104932</td>\n",
              "      <td>160872</td>\n",
              "      <td>94462</td>\n",
              "      <td>65450</td>\n",
              "    </tr>\n",
              "  </tbody>\n",
              "</table>\n",
              "</div>"
            ],
            "text/plain": [
              "  Country     Code  ... Imported value in 2018  Imported value in 2019\n",
              "0     UAE  '071340  ...                 103223                  114192\n",
              "1     UAE  '070999  ...                 100864                   98916\n",
              "2     UAE  '070310  ...                  90827                   89108\n",
              "3     UAE  '070200  ...                 100664                   86473\n",
              "4     UAE  '071320  ...                  94462                   65450\n",
              "\n",
              "[5 rows x 8 columns]"
            ]
          },
          "metadata": {
            "tags": []
          },
          "execution_count": 47
        }
      ]
    },
    {
      "cell_type": "code",
      "metadata": {
        "colab": {
          "base_uri": "https://localhost:8080/"
        },
        "id": "PpImqPeWqRv2",
        "outputId": "617b4714-9838-4aa8-f805-0bf1a52fba14"
      },
      "source": [
        "# Check for NaN values\n",
        "UAE.isnull().sum()"
      ],
      "execution_count": 48,
      "outputs": [
        {
          "output_type": "execute_result",
          "data": {
            "text/plain": [
              "Country                   0\n",
              "Code                      0\n",
              "Product label             0\n",
              "Imported value in 2015    0\n",
              "Imported value in 2016    0\n",
              "Imported value in 2017    0\n",
              "Imported value in 2018    0\n",
              "Imported value in 2019    0\n",
              "dtype: int64"
            ]
          },
          "metadata": {
            "tags": []
          },
          "execution_count": 48
        }
      ]
    },
    {
      "cell_type": "code",
      "metadata": {
        "colab": {
          "base_uri": "https://localhost:8080/",
          "height": 221
        },
        "id": "Z_7HjCw5D9nd",
        "outputId": "a8a13a82-6987-4b50-9ccc-43b474052a77"
      },
      "source": [
        "print(Saudi.shape)\n",
        "Saudi.head()"
      ],
      "execution_count": 49,
      "outputs": [
        {
          "output_type": "stream",
          "text": [
            "(71, 8)\n"
          ],
          "name": "stdout"
        },
        {
          "output_type": "execute_result",
          "data": {
            "text/html": [
              "<div>\n",
              "<style scoped>\n",
              "    .dataframe tbody tr th:only-of-type {\n",
              "        vertical-align: middle;\n",
              "    }\n",
              "\n",
              "    .dataframe tbody tr th {\n",
              "        vertical-align: top;\n",
              "    }\n",
              "\n",
              "    .dataframe thead th {\n",
              "        text-align: right;\n",
              "    }\n",
              "</style>\n",
              "<table border=\"1\" class=\"dataframe\">\n",
              "  <thead>\n",
              "    <tr style=\"text-align: right;\">\n",
              "      <th></th>\n",
              "      <th>Country</th>\n",
              "      <th>Code</th>\n",
              "      <th>Product label</th>\n",
              "      <th>Imported value in 2015</th>\n",
              "      <th>Imported value in 2016</th>\n",
              "      <th>Imported value in 2017</th>\n",
              "      <th>Imported value in 2018</th>\n",
              "      <th>Imported value in 2019</th>\n",
              "    </tr>\n",
              "  </thead>\n",
              "  <tbody>\n",
              "    <tr>\n",
              "      <th>0</th>\n",
              "      <td>Saudi Arabia</td>\n",
              "      <td>'070200</td>\n",
              "      <td>Tomatoes, fresh or chilled</td>\n",
              "      <td>94002</td>\n",
              "      <td>99394</td>\n",
              "      <td>69828</td>\n",
              "      <td>79110</td>\n",
              "      <td>86784</td>\n",
              "    </tr>\n",
              "    <tr>\n",
              "      <th>1</th>\n",
              "      <td>Saudi Arabia</td>\n",
              "      <td>'070310</td>\n",
              "      <td>Fresh or chilled onions and shallots</td>\n",
              "      <td>146565</td>\n",
              "      <td>149649</td>\n",
              "      <td>138059</td>\n",
              "      <td>119844</td>\n",
              "      <td>83625</td>\n",
              "    </tr>\n",
              "    <tr>\n",
              "      <th>2</th>\n",
              "      <td>Saudi Arabia</td>\n",
              "      <td>'070320</td>\n",
              "      <td>Garlic, fresh or chilled</td>\n",
              "      <td>40450</td>\n",
              "      <td>64580</td>\n",
              "      <td>65560</td>\n",
              "      <td>36361</td>\n",
              "      <td>51752</td>\n",
              "    </tr>\n",
              "    <tr>\n",
              "      <th>3</th>\n",
              "      <td>Saudi Arabia</td>\n",
              "      <td>'071320</td>\n",
              "      <td>Dried, shelled chickpeas \"garbanzos\", whether ...</td>\n",
              "      <td>40928</td>\n",
              "      <td>54548</td>\n",
              "      <td>63524</td>\n",
              "      <td>50843</td>\n",
              "      <td>42160</td>\n",
              "    </tr>\n",
              "    <tr>\n",
              "      <th>4</th>\n",
              "      <td>Saudi Arabia</td>\n",
              "      <td>'070511</td>\n",
              "      <td>Fresh or chilled cabbage lettuce</td>\n",
              "      <td>36719</td>\n",
              "      <td>37242</td>\n",
              "      <td>37636</td>\n",
              "      <td>35849</td>\n",
              "      <td>38972</td>\n",
              "    </tr>\n",
              "  </tbody>\n",
              "</table>\n",
              "</div>"
            ],
            "text/plain": [
              "        Country     Code  ... Imported value in 2018  Imported value in 2019\n",
              "0  Saudi Arabia  '070200  ...                  79110                   86784\n",
              "1  Saudi Arabia  '070310  ...                 119844                   83625\n",
              "2  Saudi Arabia  '070320  ...                  36361                   51752\n",
              "3  Saudi Arabia  '071320  ...                  50843                   42160\n",
              "4  Saudi Arabia  '070511  ...                  35849                   38972\n",
              "\n",
              "[5 rows x 8 columns]"
            ]
          },
          "metadata": {
            "tags": []
          },
          "execution_count": 49
        }
      ]
    },
    {
      "cell_type": "code",
      "metadata": {
        "colab": {
          "base_uri": "https://localhost:8080/"
        },
        "id": "7yKvqpCyqb9K",
        "outputId": "81e8dbed-b7bd-4099-ac34-a4141dc09b58"
      },
      "source": [
        "# Check for NaN values\n",
        "Saudi.isnull().sum()"
      ],
      "execution_count": 50,
      "outputs": [
        {
          "output_type": "execute_result",
          "data": {
            "text/plain": [
              "Country                   0\n",
              "Code                      0\n",
              "Product label             0\n",
              "Imported value in 2015    0\n",
              "Imported value in 2016    0\n",
              "Imported value in 2017    0\n",
              "Imported value in 2018    0\n",
              "Imported value in 2019    0\n",
              "dtype: int64"
            ]
          },
          "metadata": {
            "tags": []
          },
          "execution_count": 50
        }
      ]
    },
    {
      "cell_type": "code",
      "metadata": {
        "colab": {
          "base_uri": "https://localhost:8080/",
          "height": 221
        },
        "id": "xKB0Ej29EH9c",
        "outputId": "9ee6599b-2377-48ca-898b-2abce230d863"
      },
      "source": [
        "print(Qatar.shape)\n",
        "Qatar.head()"
      ],
      "execution_count": 51,
      "outputs": [
        {
          "output_type": "stream",
          "text": [
            "(72, 8)\n"
          ],
          "name": "stdout"
        },
        {
          "output_type": "execute_result",
          "data": {
            "text/html": [
              "<div>\n",
              "<style scoped>\n",
              "    .dataframe tbody tr th:only-of-type {\n",
              "        vertical-align: middle;\n",
              "    }\n",
              "\n",
              "    .dataframe tbody tr th {\n",
              "        vertical-align: top;\n",
              "    }\n",
              "\n",
              "    .dataframe thead th {\n",
              "        text-align: right;\n",
              "    }\n",
              "</style>\n",
              "<table border=\"1\" class=\"dataframe\">\n",
              "  <thead>\n",
              "    <tr style=\"text-align: right;\">\n",
              "      <th></th>\n",
              "      <th>Country</th>\n",
              "      <th>Code</th>\n",
              "      <th>Product label</th>\n",
              "      <th>Imported value in 2015</th>\n",
              "      <th>Imported value in 2016</th>\n",
              "      <th>Imported value in 2017</th>\n",
              "      <th>Imported value in 2018</th>\n",
              "      <th>Imported value in 2019</th>\n",
              "    </tr>\n",
              "  </thead>\n",
              "  <tbody>\n",
              "    <tr>\n",
              "      <th>0</th>\n",
              "      <td>Qatar</td>\n",
              "      <td>'070310</td>\n",
              "      <td>Fresh or chilled onions and shallots</td>\n",
              "      <td>27933</td>\n",
              "      <td>NaN</td>\n",
              "      <td>28647</td>\n",
              "      <td>31594</td>\n",
              "      <td>28633</td>\n",
              "    </tr>\n",
              "    <tr>\n",
              "      <th>1</th>\n",
              "      <td>Qatar</td>\n",
              "      <td>'070200</td>\n",
              "      <td>Tomatoes, fresh or chilled</td>\n",
              "      <td>28888</td>\n",
              "      <td>NaN</td>\n",
              "      <td>29148</td>\n",
              "      <td>29875</td>\n",
              "      <td>26529</td>\n",
              "    </tr>\n",
              "    <tr>\n",
              "      <th>2</th>\n",
              "      <td>Qatar</td>\n",
              "      <td>'070999</td>\n",
              "      <td>Fresh or chilled vegetables n.e.s.</td>\n",
              "      <td>6116</td>\n",
              "      <td>NaN</td>\n",
              "      <td>11855</td>\n",
              "      <td>37800</td>\n",
              "      <td>18612</td>\n",
              "    </tr>\n",
              "    <tr>\n",
              "      <th>3</th>\n",
              "      <td>Qatar</td>\n",
              "      <td>'070960</td>\n",
              "      <td>Fresh or chilled fruits of the genus Capsicum ...</td>\n",
              "      <td>8025</td>\n",
              "      <td>NaN</td>\n",
              "      <td>15512</td>\n",
              "      <td>16359</td>\n",
              "      <td>15021</td>\n",
              "    </tr>\n",
              "    <tr>\n",
              "      <th>4</th>\n",
              "      <td>Qatar</td>\n",
              "      <td>'070110</td>\n",
              "      <td>Seed potatoes</td>\n",
              "      <td>18992</td>\n",
              "      <td>NaN</td>\n",
              "      <td>21484</td>\n",
              "      <td>15359</td>\n",
              "      <td>14651</td>\n",
              "    </tr>\n",
              "  </tbody>\n",
              "</table>\n",
              "</div>"
            ],
            "text/plain": [
              "  Country     Code  ... Imported value in 2018  Imported value in 2019\n",
              "0   Qatar  '070310  ...                  31594                   28633\n",
              "1   Qatar  '070200  ...                  29875                   26529\n",
              "2   Qatar  '070999  ...                  37800                   18612\n",
              "3   Qatar  '070960  ...                  16359                   15021\n",
              "4   Qatar  '070110  ...                  15359                   14651\n",
              "\n",
              "[5 rows x 8 columns]"
            ]
          },
          "metadata": {
            "tags": []
          },
          "execution_count": 51
        }
      ]
    },
    {
      "cell_type": "code",
      "metadata": {
        "colab": {
          "base_uri": "https://localhost:8080/"
        },
        "id": "DPW3y8JMqeTe",
        "outputId": "7c5d5305-f34f-49af-94a8-8385c2a36e49"
      },
      "source": [
        "# Check for NaN values\n",
        "Qatar.isnull().sum()"
      ],
      "execution_count": 52,
      "outputs": [
        {
          "output_type": "execute_result",
          "data": {
            "text/plain": [
              "Country                    0\n",
              "Code                       0\n",
              "Product label              0\n",
              "Imported value in 2015     0\n",
              "Imported value in 2016    72\n",
              "Imported value in 2017     0\n",
              "Imported value in 2018     0\n",
              "Imported value in 2019     0\n",
              "dtype: int64"
            ]
          },
          "metadata": {
            "tags": []
          },
          "execution_count": 52
        }
      ]
    },
    {
      "cell_type": "code",
      "metadata": {
        "colab": {
          "base_uri": "https://localhost:8080/",
          "height": 419
        },
        "id": "THR2_JcdqgXS",
        "outputId": "c5021125-5d79-48b3-dbfe-7a1feb64baea"
      },
      "source": [
        "Qatar[Qatar.isna().any(axis=1)]"
      ],
      "execution_count": 53,
      "outputs": [
        {
          "output_type": "execute_result",
          "data": {
            "text/html": [
              "<div>\n",
              "<style scoped>\n",
              "    .dataframe tbody tr th:only-of-type {\n",
              "        vertical-align: middle;\n",
              "    }\n",
              "\n",
              "    .dataframe tbody tr th {\n",
              "        vertical-align: top;\n",
              "    }\n",
              "\n",
              "    .dataframe thead th {\n",
              "        text-align: right;\n",
              "    }\n",
              "</style>\n",
              "<table border=\"1\" class=\"dataframe\">\n",
              "  <thead>\n",
              "    <tr style=\"text-align: right;\">\n",
              "      <th></th>\n",
              "      <th>Country</th>\n",
              "      <th>Code</th>\n",
              "      <th>Product label</th>\n",
              "      <th>Imported value in 2015</th>\n",
              "      <th>Imported value in 2016</th>\n",
              "      <th>Imported value in 2017</th>\n",
              "      <th>Imported value in 2018</th>\n",
              "      <th>Imported value in 2019</th>\n",
              "    </tr>\n",
              "  </thead>\n",
              "  <tbody>\n",
              "    <tr>\n",
              "      <th>0</th>\n",
              "      <td>Qatar</td>\n",
              "      <td>'070310</td>\n",
              "      <td>Fresh or chilled onions and shallots</td>\n",
              "      <td>27933</td>\n",
              "      <td>NaN</td>\n",
              "      <td>28647</td>\n",
              "      <td>31594</td>\n",
              "      <td>28633</td>\n",
              "    </tr>\n",
              "    <tr>\n",
              "      <th>1</th>\n",
              "      <td>Qatar</td>\n",
              "      <td>'070200</td>\n",
              "      <td>Tomatoes, fresh or chilled</td>\n",
              "      <td>28888</td>\n",
              "      <td>NaN</td>\n",
              "      <td>29148</td>\n",
              "      <td>29875</td>\n",
              "      <td>26529</td>\n",
              "    </tr>\n",
              "    <tr>\n",
              "      <th>2</th>\n",
              "      <td>Qatar</td>\n",
              "      <td>'070999</td>\n",
              "      <td>Fresh or chilled vegetables n.e.s.</td>\n",
              "      <td>6116</td>\n",
              "      <td>NaN</td>\n",
              "      <td>11855</td>\n",
              "      <td>37800</td>\n",
              "      <td>18612</td>\n",
              "    </tr>\n",
              "    <tr>\n",
              "      <th>3</th>\n",
              "      <td>Qatar</td>\n",
              "      <td>'070960</td>\n",
              "      <td>Fresh or chilled fruits of the genus Capsicum ...</td>\n",
              "      <td>8025</td>\n",
              "      <td>NaN</td>\n",
              "      <td>15512</td>\n",
              "      <td>16359</td>\n",
              "      <td>15021</td>\n",
              "    </tr>\n",
              "    <tr>\n",
              "      <th>4</th>\n",
              "      <td>Qatar</td>\n",
              "      <td>'070110</td>\n",
              "      <td>Seed potatoes</td>\n",
              "      <td>18992</td>\n",
              "      <td>NaN</td>\n",
              "      <td>21484</td>\n",
              "      <td>15359</td>\n",
              "      <td>14651</td>\n",
              "    </tr>\n",
              "    <tr>\n",
              "      <th>...</th>\n",
              "      <td>...</td>\n",
              "      <td>...</td>\n",
              "      <td>...</td>\n",
              "      <td>...</td>\n",
              "      <td>...</td>\n",
              "      <td>...</td>\n",
              "      <td>...</td>\n",
              "      <td>...</td>\n",
              "    </tr>\n",
              "    <tr>\n",
              "      <th>67</th>\n",
              "      <td>Qatar</td>\n",
              "      <td>'070990</td>\n",
              "      <td>Fresh or chilled vegetables (excluding potatoe...</td>\n",
              "      <td>0</td>\n",
              "      <td>NaN</td>\n",
              "      <td>0</td>\n",
              "      <td>0</td>\n",
              "      <td>0</td>\n",
              "    </tr>\n",
              "    <tr>\n",
              "      <th>68</th>\n",
              "      <td>Qatar</td>\n",
              "      <td>'070952</td>\n",
              "      <td>Fresh or chilled truffles</td>\n",
              "      <td>0</td>\n",
              "      <td>NaN</td>\n",
              "      <td>0</td>\n",
              "      <td>0</td>\n",
              "      <td>0</td>\n",
              "    </tr>\n",
              "    <tr>\n",
              "      <th>69</th>\n",
              "      <td>Qatar</td>\n",
              "      <td>'070529</td>\n",
              "      <td>Fresh or chilled chicory (excluding witloof ch...</td>\n",
              "      <td>0</td>\n",
              "      <td>NaN</td>\n",
              "      <td>2</td>\n",
              "      <td>30</td>\n",
              "      <td>0</td>\n",
              "    </tr>\n",
              "    <tr>\n",
              "      <th>70</th>\n",
              "      <td>Qatar</td>\n",
              "      <td>'070890</td>\n",
              "      <td>Fresh or chilled leguminous vegetables, shelle...</td>\n",
              "      <td>642</td>\n",
              "      <td>NaN</td>\n",
              "      <td>460</td>\n",
              "      <td>172</td>\n",
              "      <td>0</td>\n",
              "    </tr>\n",
              "    <tr>\n",
              "      <th>71</th>\n",
              "      <td>Qatar</td>\n",
              "      <td>'070910</td>\n",
              "      <td>Fresh or chilled globe artichokes</td>\n",
              "      <td>0</td>\n",
              "      <td>NaN</td>\n",
              "      <td>0</td>\n",
              "      <td>0</td>\n",
              "      <td>0</td>\n",
              "    </tr>\n",
              "  </tbody>\n",
              "</table>\n",
              "<p>72 rows × 8 columns</p>\n",
              "</div>"
            ],
            "text/plain": [
              "   Country     Code  ... Imported value in 2018  Imported value in 2019\n",
              "0    Qatar  '070310  ...                  31594                   28633\n",
              "1    Qatar  '070200  ...                  29875                   26529\n",
              "2    Qatar  '070999  ...                  37800                   18612\n",
              "3    Qatar  '070960  ...                  16359                   15021\n",
              "4    Qatar  '070110  ...                  15359                   14651\n",
              "..     ...      ...  ...                    ...                     ...\n",
              "67   Qatar  '070990  ...                      0                       0\n",
              "68   Qatar  '070952  ...                      0                       0\n",
              "69   Qatar  '070529  ...                     30                       0\n",
              "70   Qatar  '070890  ...                    172                       0\n",
              "71   Qatar  '070910  ...                      0                       0\n",
              "\n",
              "[72 rows x 8 columns]"
            ]
          },
          "metadata": {
            "tags": []
          },
          "execution_count": 53
        }
      ]
    },
    {
      "cell_type": "code",
      "metadata": {
        "colab": {
          "base_uri": "https://localhost:8080/",
          "height": 419
        },
        "id": "5KK9G42eqogg",
        "outputId": "ea032f72-b5fa-41ec-9882-984b7823afb4"
      },
      "source": [
        "# Replace NaN values with the row's mean. I chose row mean because replaced\n",
        "# values are specific to each product\n",
        "Qatar = Qatar.T.fillna(Qatar.mean(axis=1)).T\n",
        "Qatar"
      ],
      "execution_count": 54,
      "outputs": [
        {
          "output_type": "execute_result",
          "data": {
            "text/html": [
              "<div>\n",
              "<style scoped>\n",
              "    .dataframe tbody tr th:only-of-type {\n",
              "        vertical-align: middle;\n",
              "    }\n",
              "\n",
              "    .dataframe tbody tr th {\n",
              "        vertical-align: top;\n",
              "    }\n",
              "\n",
              "    .dataframe thead th {\n",
              "        text-align: right;\n",
              "    }\n",
              "</style>\n",
              "<table border=\"1\" class=\"dataframe\">\n",
              "  <thead>\n",
              "    <tr style=\"text-align: right;\">\n",
              "      <th></th>\n",
              "      <th>Country</th>\n",
              "      <th>Code</th>\n",
              "      <th>Product label</th>\n",
              "      <th>Imported value in 2015</th>\n",
              "      <th>Imported value in 2016</th>\n",
              "      <th>Imported value in 2017</th>\n",
              "      <th>Imported value in 2018</th>\n",
              "      <th>Imported value in 2019</th>\n",
              "    </tr>\n",
              "  </thead>\n",
              "  <tbody>\n",
              "    <tr>\n",
              "      <th>0</th>\n",
              "      <td>Qatar</td>\n",
              "      <td>'070310</td>\n",
              "      <td>Fresh or chilled onions and shallots</td>\n",
              "      <td>27933</td>\n",
              "      <td>29201.8</td>\n",
              "      <td>28647</td>\n",
              "      <td>31594</td>\n",
              "      <td>28633</td>\n",
              "    </tr>\n",
              "    <tr>\n",
              "      <th>1</th>\n",
              "      <td>Qatar</td>\n",
              "      <td>'070200</td>\n",
              "      <td>Tomatoes, fresh or chilled</td>\n",
              "      <td>28888</td>\n",
              "      <td>28610</td>\n",
              "      <td>29148</td>\n",
              "      <td>29875</td>\n",
              "      <td>26529</td>\n",
              "    </tr>\n",
              "    <tr>\n",
              "      <th>2</th>\n",
              "      <td>Qatar</td>\n",
              "      <td>'070999</td>\n",
              "      <td>Fresh or chilled vegetables n.e.s.</td>\n",
              "      <td>6116</td>\n",
              "      <td>18595.8</td>\n",
              "      <td>11855</td>\n",
              "      <td>37800</td>\n",
              "      <td>18612</td>\n",
              "    </tr>\n",
              "    <tr>\n",
              "      <th>3</th>\n",
              "      <td>Qatar</td>\n",
              "      <td>'070960</td>\n",
              "      <td>Fresh or chilled fruits of the genus Capsicum ...</td>\n",
              "      <td>8025</td>\n",
              "      <td>13729.2</td>\n",
              "      <td>15512</td>\n",
              "      <td>16359</td>\n",
              "      <td>15021</td>\n",
              "    </tr>\n",
              "    <tr>\n",
              "      <th>4</th>\n",
              "      <td>Qatar</td>\n",
              "      <td>'070110</td>\n",
              "      <td>Seed potatoes</td>\n",
              "      <td>18992</td>\n",
              "      <td>17621.5</td>\n",
              "      <td>21484</td>\n",
              "      <td>15359</td>\n",
              "      <td>14651</td>\n",
              "    </tr>\n",
              "    <tr>\n",
              "      <th>...</th>\n",
              "      <td>...</td>\n",
              "      <td>...</td>\n",
              "      <td>...</td>\n",
              "      <td>...</td>\n",
              "      <td>...</td>\n",
              "      <td>...</td>\n",
              "      <td>...</td>\n",
              "      <td>...</td>\n",
              "    </tr>\n",
              "    <tr>\n",
              "      <th>67</th>\n",
              "      <td>Qatar</td>\n",
              "      <td>'070990</td>\n",
              "      <td>Fresh or chilled vegetables (excluding potatoe...</td>\n",
              "      <td>0</td>\n",
              "      <td>0</td>\n",
              "      <td>0</td>\n",
              "      <td>0</td>\n",
              "      <td>0</td>\n",
              "    </tr>\n",
              "    <tr>\n",
              "      <th>68</th>\n",
              "      <td>Qatar</td>\n",
              "      <td>'070952</td>\n",
              "      <td>Fresh or chilled truffles</td>\n",
              "      <td>0</td>\n",
              "      <td>0</td>\n",
              "      <td>0</td>\n",
              "      <td>0</td>\n",
              "      <td>0</td>\n",
              "    </tr>\n",
              "    <tr>\n",
              "      <th>69</th>\n",
              "      <td>Qatar</td>\n",
              "      <td>'070529</td>\n",
              "      <td>Fresh or chilled chicory (excluding witloof ch...</td>\n",
              "      <td>0</td>\n",
              "      <td>8</td>\n",
              "      <td>2</td>\n",
              "      <td>30</td>\n",
              "      <td>0</td>\n",
              "    </tr>\n",
              "    <tr>\n",
              "      <th>70</th>\n",
              "      <td>Qatar</td>\n",
              "      <td>'070890</td>\n",
              "      <td>Fresh or chilled leguminous vegetables, shelle...</td>\n",
              "      <td>642</td>\n",
              "      <td>318.5</td>\n",
              "      <td>460</td>\n",
              "      <td>172</td>\n",
              "      <td>0</td>\n",
              "    </tr>\n",
              "    <tr>\n",
              "      <th>71</th>\n",
              "      <td>Qatar</td>\n",
              "      <td>'070910</td>\n",
              "      <td>Fresh or chilled globe artichokes</td>\n",
              "      <td>0</td>\n",
              "      <td>0</td>\n",
              "      <td>0</td>\n",
              "      <td>0</td>\n",
              "      <td>0</td>\n",
              "    </tr>\n",
              "  </tbody>\n",
              "</table>\n",
              "<p>72 rows × 8 columns</p>\n",
              "</div>"
            ],
            "text/plain": [
              "   Country     Code  ... Imported value in 2018 Imported value in 2019\n",
              "0    Qatar  '070310  ...                  31594                  28633\n",
              "1    Qatar  '070200  ...                  29875                  26529\n",
              "2    Qatar  '070999  ...                  37800                  18612\n",
              "3    Qatar  '070960  ...                  16359                  15021\n",
              "4    Qatar  '070110  ...                  15359                  14651\n",
              "..     ...      ...  ...                    ...                    ...\n",
              "67   Qatar  '070990  ...                      0                      0\n",
              "68   Qatar  '070952  ...                      0                      0\n",
              "69   Qatar  '070529  ...                     30                      0\n",
              "70   Qatar  '070890  ...                    172                      0\n",
              "71   Qatar  '070910  ...                      0                      0\n",
              "\n",
              "[72 rows x 8 columns]"
            ]
          },
          "metadata": {
            "tags": []
          },
          "execution_count": 54
        }
      ]
    },
    {
      "cell_type": "code",
      "metadata": {
        "colab": {
          "base_uri": "https://localhost:8080/",
          "height": 221
        },
        "id": "nX-zPoQ1EKps",
        "outputId": "259b27f8-2b5d-488d-f588-4d9ad32739d4"
      },
      "source": [
        "print(Oman.shape)\n",
        "Oman.head()"
      ],
      "execution_count": 55,
      "outputs": [
        {
          "output_type": "stream",
          "text": [
            "(69, 8)\n"
          ],
          "name": "stdout"
        },
        {
          "output_type": "execute_result",
          "data": {
            "text/html": [
              "<div>\n",
              "<style scoped>\n",
              "    .dataframe tbody tr th:only-of-type {\n",
              "        vertical-align: middle;\n",
              "    }\n",
              "\n",
              "    .dataframe tbody tr th {\n",
              "        vertical-align: top;\n",
              "    }\n",
              "\n",
              "    .dataframe thead th {\n",
              "        text-align: right;\n",
              "    }\n",
              "</style>\n",
              "<table border=\"1\" class=\"dataframe\">\n",
              "  <thead>\n",
              "    <tr style=\"text-align: right;\">\n",
              "      <th></th>\n",
              "      <th>Country</th>\n",
              "      <th>Code</th>\n",
              "      <th>Product label</th>\n",
              "      <th>Imported value in 2015</th>\n",
              "      <th>Imported value in 2016</th>\n",
              "      <th>Imported value in 2017</th>\n",
              "      <th>Imported value in 2018</th>\n",
              "      <th>Imported value in 2019</th>\n",
              "    </tr>\n",
              "  </thead>\n",
              "  <tbody>\n",
              "    <tr>\n",
              "      <th>0</th>\n",
              "      <td>Oman</td>\n",
              "      <td>'070310</td>\n",
              "      <td>Fresh or chilled onions and shallots</td>\n",
              "      <td>25599</td>\n",
              "      <td>20774</td>\n",
              "      <td>29458</td>\n",
              "      <td>26262</td>\n",
              "      <td>25032.0</td>\n",
              "    </tr>\n",
              "    <tr>\n",
              "      <th>1</th>\n",
              "      <td>Oman</td>\n",
              "      <td>'070190</td>\n",
              "      <td>Fresh or chilled potatoes (excluding seed)</td>\n",
              "      <td>23588</td>\n",
              "      <td>22882</td>\n",
              "      <td>34090</td>\n",
              "      <td>28926</td>\n",
              "      <td>23798.0</td>\n",
              "    </tr>\n",
              "    <tr>\n",
              "      <th>2</th>\n",
              "      <td>Oman</td>\n",
              "      <td>'070200</td>\n",
              "      <td>Tomatoes, fresh or chilled</td>\n",
              "      <td>11505</td>\n",
              "      <td>16588</td>\n",
              "      <td>17441</td>\n",
              "      <td>16949</td>\n",
              "      <td>14268.0</td>\n",
              "    </tr>\n",
              "    <tr>\n",
              "      <th>3</th>\n",
              "      <td>Oman</td>\n",
              "      <td>'070320</td>\n",
              "      <td>Garlic, fresh or chilled</td>\n",
              "      <td>9083</td>\n",
              "      <td>6037</td>\n",
              "      <td>6961</td>\n",
              "      <td>10985</td>\n",
              "      <td>13580.0</td>\n",
              "    </tr>\n",
              "    <tr>\n",
              "      <th>4</th>\n",
              "      <td>Oman</td>\n",
              "      <td>'071320</td>\n",
              "      <td>Dried, shelled chickpeas \"garbanzos\", whether ...</td>\n",
              "      <td>3057</td>\n",
              "      <td>5885</td>\n",
              "      <td>9886</td>\n",
              "      <td>10061</td>\n",
              "      <td>8797.0</td>\n",
              "    </tr>\n",
              "  </tbody>\n",
              "</table>\n",
              "</div>"
            ],
            "text/plain": [
              "  Country     Code  ... Imported value in 2018  Imported value in 2019\n",
              "0    Oman  '070310  ...                  26262                 25032.0\n",
              "1    Oman  '070190  ...                  28926                 23798.0\n",
              "2    Oman  '070200  ...                  16949                 14268.0\n",
              "3    Oman  '070320  ...                  10985                 13580.0\n",
              "4    Oman  '071320  ...                  10061                  8797.0\n",
              "\n",
              "[5 rows x 8 columns]"
            ]
          },
          "metadata": {
            "tags": []
          },
          "execution_count": 55
        }
      ]
    },
    {
      "cell_type": "code",
      "metadata": {
        "colab": {
          "base_uri": "https://localhost:8080/"
        },
        "id": "-q7QBa4ispDt",
        "outputId": "87a0d467-b064-45e4-9075-b83178acc201"
      },
      "source": [
        "# Check for NaN values\n",
        "Oman.isnull().sum()"
      ],
      "execution_count": 56,
      "outputs": [
        {
          "output_type": "execute_result",
          "data": {
            "text/plain": [
              "Country                   0\n",
              "Code                      0\n",
              "Product label             0\n",
              "Imported value in 2015    0\n",
              "Imported value in 2016    0\n",
              "Imported value in 2017    0\n",
              "Imported value in 2018    0\n",
              "Imported value in 2019    5\n",
              "dtype: int64"
            ]
          },
          "metadata": {
            "tags": []
          },
          "execution_count": 56
        }
      ]
    },
    {
      "cell_type": "code",
      "metadata": {
        "colab": {
          "base_uri": "https://localhost:8080/"
        },
        "id": "RG9VIdpItelZ",
        "outputId": "89501f67-6dba-48e2-8e0b-a2d0eee00d28"
      },
      "source": [
        "# Replace NaN values with the row's mean. I chose row mean because replaced\n",
        "# values are specific to each product\n",
        "Oman = Oman.T.fillna(Oman.mean(axis=1)).T\n",
        "Oman.isnull().sum()"
      ],
      "execution_count": 69,
      "outputs": [
        {
          "output_type": "execute_result",
          "data": {
            "text/plain": [
              "Country                   0\n",
              "Code                      0\n",
              "Product label             0\n",
              "Imported value in 2015    0\n",
              "Imported value in 2016    0\n",
              "Imported value in 2017    0\n",
              "Imported value in 2018    0\n",
              "Imported value in 2019    0\n",
              "dtype: int64"
            ]
          },
          "metadata": {
            "tags": []
          },
          "execution_count": 69
        }
      ]
    },
    {
      "cell_type": "code",
      "metadata": {
        "colab": {
          "base_uri": "https://localhost:8080/",
          "height": 221
        },
        "id": "AXeXtZ9WEPV_",
        "outputId": "3c139071-1c18-48b5-aaa4-d5e56215e272"
      },
      "source": [
        "print(Kuwait.shape)\n",
        "Kuwait.head()"
      ],
      "execution_count": 57,
      "outputs": [
        {
          "output_type": "stream",
          "text": [
            "(70, 8)\n"
          ],
          "name": "stdout"
        },
        {
          "output_type": "execute_result",
          "data": {
            "text/html": [
              "<div>\n",
              "<style scoped>\n",
              "    .dataframe tbody tr th:only-of-type {\n",
              "        vertical-align: middle;\n",
              "    }\n",
              "\n",
              "    .dataframe tbody tr th {\n",
              "        vertical-align: top;\n",
              "    }\n",
              "\n",
              "    .dataframe thead th {\n",
              "        text-align: right;\n",
              "    }\n",
              "</style>\n",
              "<table border=\"1\" class=\"dataframe\">\n",
              "  <thead>\n",
              "    <tr style=\"text-align: right;\">\n",
              "      <th></th>\n",
              "      <th>Country</th>\n",
              "      <th>Code</th>\n",
              "      <th>Product label</th>\n",
              "      <th>Imported value in 2015</th>\n",
              "      <th>Imported value in 2016</th>\n",
              "      <th>Imported value in 2017</th>\n",
              "      <th>Imported value in 2018</th>\n",
              "      <th>Imported value in 2019</th>\n",
              "    </tr>\n",
              "  </thead>\n",
              "  <tbody>\n",
              "    <tr>\n",
              "      <th>0</th>\n",
              "      <td>Kuwait</td>\n",
              "      <td>'070200</td>\n",
              "      <td>Tomatoes, fresh or chilled</td>\n",
              "      <td>41815</td>\n",
              "      <td>37264</td>\n",
              "      <td>36872</td>\n",
              "      <td>32509</td>\n",
              "      <td>36022.0</td>\n",
              "    </tr>\n",
              "    <tr>\n",
              "      <th>1</th>\n",
              "      <td>Kuwait</td>\n",
              "      <td>'070190</td>\n",
              "      <td>Fresh or chilled potatoes (excluding seed)</td>\n",
              "      <td>72643</td>\n",
              "      <td>31442</td>\n",
              "      <td>38259</td>\n",
              "      <td>38200</td>\n",
              "      <td>21478.0</td>\n",
              "    </tr>\n",
              "    <tr>\n",
              "      <th>2</th>\n",
              "      <td>Kuwait</td>\n",
              "      <td>'070310</td>\n",
              "      <td>Fresh or chilled onions and shallots</td>\n",
              "      <td>43837</td>\n",
              "      <td>39847</td>\n",
              "      <td>31779</td>\n",
              "      <td>37638</td>\n",
              "      <td>21394.0</td>\n",
              "    </tr>\n",
              "    <tr>\n",
              "      <th>3</th>\n",
              "      <td>Kuwait</td>\n",
              "      <td>'070960</td>\n",
              "      <td>Fresh or chilled fruits of the genus Capsicum ...</td>\n",
              "      <td>18373</td>\n",
              "      <td>15726</td>\n",
              "      <td>18698</td>\n",
              "      <td>17215</td>\n",
              "      <td>20992.0</td>\n",
              "    </tr>\n",
              "    <tr>\n",
              "      <th>4</th>\n",
              "      <td>Kuwait</td>\n",
              "      <td>'070999</td>\n",
              "      <td>Fresh or chilled vegetables n.e.s.</td>\n",
              "      <td>44916</td>\n",
              "      <td>40991</td>\n",
              "      <td>40908</td>\n",
              "      <td>50434</td>\n",
              "      <td>19663.0</td>\n",
              "    </tr>\n",
              "  </tbody>\n",
              "</table>\n",
              "</div>"
            ],
            "text/plain": [
              "  Country     Code  ... Imported value in 2018  Imported value in 2019\n",
              "0  Kuwait  '070200  ...                  32509                 36022.0\n",
              "1  Kuwait  '070190  ...                  38200                 21478.0\n",
              "2  Kuwait  '070310  ...                  37638                 21394.0\n",
              "3  Kuwait  '070960  ...                  17215                 20992.0\n",
              "4  Kuwait  '070999  ...                  50434                 19663.0\n",
              "\n",
              "[5 rows x 8 columns]"
            ]
          },
          "metadata": {
            "tags": []
          },
          "execution_count": 57
        }
      ]
    },
    {
      "cell_type": "code",
      "metadata": {
        "colab": {
          "base_uri": "https://localhost:8080/"
        },
        "id": "tajklDUSsuRp",
        "outputId": "b35259d7-7eb1-4e8e-f7b9-3fc486595bdf"
      },
      "source": [
        "# Check for NaN values\n",
        "Kuwait.isnull().sum()"
      ],
      "execution_count": 58,
      "outputs": [
        {
          "output_type": "execute_result",
          "data": {
            "text/plain": [
              "Country                   0\n",
              "Code                      0\n",
              "Product label             0\n",
              "Imported value in 2015    0\n",
              "Imported value in 2016    0\n",
              "Imported value in 2017    0\n",
              "Imported value in 2018    0\n",
              "Imported value in 2019    6\n",
              "dtype: int64"
            ]
          },
          "metadata": {
            "tags": []
          },
          "execution_count": 58
        }
      ]
    },
    {
      "cell_type": "code",
      "metadata": {
        "colab": {
          "base_uri": "https://localhost:8080/"
        },
        "id": "YqwuCVdWtw-D",
        "outputId": "5454a659-e89c-45b3-e6a8-94c7065e91d7"
      },
      "source": [
        "# Replace NaN values with the row's mean. I chose row mean because replaced\n",
        "# values are specific to each product\n",
        "Kuwait = Kuwait.T.fillna(Kuwait.mean(axis=1)).T\n",
        "Kuwait.isnull().sum()"
      ],
      "execution_count": 70,
      "outputs": [
        {
          "output_type": "execute_result",
          "data": {
            "text/plain": [
              "Country                   0\n",
              "Code                      0\n",
              "Product label             0\n",
              "Imported value in 2015    0\n",
              "Imported value in 2016    0\n",
              "Imported value in 2017    0\n",
              "Imported value in 2018    0\n",
              "Imported value in 2019    0\n",
              "dtype: int64"
            ]
          },
          "metadata": {
            "tags": []
          },
          "execution_count": 70
        }
      ]
    },
    {
      "cell_type": "code",
      "metadata": {
        "colab": {
          "base_uri": "https://localhost:8080/",
          "height": 221
        },
        "id": "oIbme11EES8e",
        "outputId": "ae9ae80d-142b-4a7e-ff08-5343b2c96188"
      },
      "source": [
        "print(Bahrain.shape)\n",
        "Bahrain.head()"
      ],
      "execution_count": 71,
      "outputs": [
        {
          "output_type": "stream",
          "text": [
            "(72, 8)\n"
          ],
          "name": "stdout"
        },
        {
          "output_type": "execute_result",
          "data": {
            "text/html": [
              "<div>\n",
              "<style scoped>\n",
              "    .dataframe tbody tr th:only-of-type {\n",
              "        vertical-align: middle;\n",
              "    }\n",
              "\n",
              "    .dataframe tbody tr th {\n",
              "        vertical-align: top;\n",
              "    }\n",
              "\n",
              "    .dataframe thead th {\n",
              "        text-align: right;\n",
              "    }\n",
              "</style>\n",
              "<table border=\"1\" class=\"dataframe\">\n",
              "  <thead>\n",
              "    <tr style=\"text-align: right;\">\n",
              "      <th></th>\n",
              "      <th>Country</th>\n",
              "      <th>Code</th>\n",
              "      <th>Product label</th>\n",
              "      <th>Imported value in 2015</th>\n",
              "      <th>Imported value in 2016</th>\n",
              "      <th>Imported value in 2017</th>\n",
              "      <th>Imported value in 2018</th>\n",
              "      <th>Imported value in 2019</th>\n",
              "    </tr>\n",
              "  </thead>\n",
              "  <tbody>\n",
              "    <tr>\n",
              "      <th>0</th>\n",
              "      <td>Bahrain</td>\n",
              "      <td>'070200</td>\n",
              "      <td>Tomatoes, fresh or chilled</td>\n",
              "      <td>11661</td>\n",
              "      <td>13054</td>\n",
              "      <td>11962</td>\n",
              "      <td>13963</td>\n",
              "      <td>17583</td>\n",
              "    </tr>\n",
              "    <tr>\n",
              "      <th>1</th>\n",
              "      <td>Bahrain</td>\n",
              "      <td>'070999</td>\n",
              "      <td>Fresh or chilled vegetables n.e.s.</td>\n",
              "      <td>14312</td>\n",
              "      <td>15631</td>\n",
              "      <td>18468</td>\n",
              "      <td>16614</td>\n",
              "      <td>11934</td>\n",
              "    </tr>\n",
              "    <tr>\n",
              "      <th>2</th>\n",
              "      <td>Bahrain</td>\n",
              "      <td>'070310</td>\n",
              "      <td>Fresh or chilled onions and shallots</td>\n",
              "      <td>16714</td>\n",
              "      <td>11541</td>\n",
              "      <td>13750</td>\n",
              "      <td>15774</td>\n",
              "      <td>11803</td>\n",
              "    </tr>\n",
              "    <tr>\n",
              "      <th>3</th>\n",
              "      <td>Bahrain</td>\n",
              "      <td>'070960</td>\n",
              "      <td>Fresh or chilled fruits of the genus Capsicum ...</td>\n",
              "      <td>7474</td>\n",
              "      <td>9401</td>\n",
              "      <td>9691</td>\n",
              "      <td>8852</td>\n",
              "      <td>8711</td>\n",
              "    </tr>\n",
              "    <tr>\n",
              "      <th>4</th>\n",
              "      <td>Bahrain</td>\n",
              "      <td>'070190</td>\n",
              "      <td>Fresh or chilled potatoes (excluding seed)</td>\n",
              "      <td>10184</td>\n",
              "      <td>10657</td>\n",
              "      <td>11530</td>\n",
              "      <td>12031</td>\n",
              "      <td>6606</td>\n",
              "    </tr>\n",
              "  </tbody>\n",
              "</table>\n",
              "</div>"
            ],
            "text/plain": [
              "   Country     Code  ... Imported value in 2018 Imported value in 2019\n",
              "0  Bahrain  '070200  ...                  13963                  17583\n",
              "1  Bahrain  '070999  ...                  16614                  11934\n",
              "2  Bahrain  '070310  ...                  15774                  11803\n",
              "3  Bahrain  '070960  ...                   8852                   8711\n",
              "4  Bahrain  '070190  ...                  12031                   6606\n",
              "\n",
              "[5 rows x 8 columns]"
            ]
          },
          "metadata": {
            "tags": []
          },
          "execution_count": 71
        }
      ]
    },
    {
      "cell_type": "code",
      "metadata": {
        "colab": {
          "base_uri": "https://localhost:8080/"
        },
        "id": "CZ707FxUsy8F",
        "outputId": "6289e7ee-bbee-4986-d837-d82cec892c58"
      },
      "source": [
        "# Check for NaN values\n",
        "Bahrain.isnull().sum()"
      ],
      "execution_count": 72,
      "outputs": [
        {
          "output_type": "execute_result",
          "data": {
            "text/plain": [
              "Country                   0\n",
              "Code                      0\n",
              "Product label             0\n",
              "Imported value in 2015    0\n",
              "Imported value in 2016    0\n",
              "Imported value in 2017    0\n",
              "Imported value in 2018    0\n",
              "Imported value in 2019    0\n",
              "dtype: int64"
            ]
          },
          "metadata": {
            "tags": []
          },
          "execution_count": 72
        }
      ]
    },
    {
      "cell_type": "code",
      "metadata": {
        "colab": {
          "base_uri": "https://localhost:8080/",
          "height": 49
        },
        "id": "Endez_sks5PI",
        "outputId": "a01e0856-ef38-4d83-b9bb-f98936301459"
      },
      "source": [
        "Bahrain[Bahrain.isna().any(axis=1)]"
      ],
      "execution_count": 73,
      "outputs": [
        {
          "output_type": "execute_result",
          "data": {
            "text/html": [
              "<div>\n",
              "<style scoped>\n",
              "    .dataframe tbody tr th:only-of-type {\n",
              "        vertical-align: middle;\n",
              "    }\n",
              "\n",
              "    .dataframe tbody tr th {\n",
              "        vertical-align: top;\n",
              "    }\n",
              "\n",
              "    .dataframe thead th {\n",
              "        text-align: right;\n",
              "    }\n",
              "</style>\n",
              "<table border=\"1\" class=\"dataframe\">\n",
              "  <thead>\n",
              "    <tr style=\"text-align: right;\">\n",
              "      <th></th>\n",
              "      <th>Country</th>\n",
              "      <th>Code</th>\n",
              "      <th>Product label</th>\n",
              "      <th>Imported value in 2015</th>\n",
              "      <th>Imported value in 2016</th>\n",
              "      <th>Imported value in 2017</th>\n",
              "      <th>Imported value in 2018</th>\n",
              "      <th>Imported value in 2019</th>\n",
              "    </tr>\n",
              "  </thead>\n",
              "  <tbody>\n",
              "  </tbody>\n",
              "</table>\n",
              "</div>"
            ],
            "text/plain": [
              "Empty DataFrame\n",
              "Columns: [Country, Code, Product label, Imported value in 2015, Imported value in 2016, Imported value in 2017, Imported value in 2018, Imported value in 2019]\n",
              "Index: []"
            ]
          },
          "metadata": {
            "tags": []
          },
          "execution_count": 73
        }
      ]
    },
    {
      "cell_type": "code",
      "metadata": {
        "colab": {
          "base_uri": "https://localhost:8080/",
          "height": 419
        },
        "id": "NrwxY_zgs-Aq",
        "outputId": "7a7813ab-58ed-41b0-c67a-cec8a07de89f"
      },
      "source": [
        "Bahrain = Bahrain.T.fillna(Bahrain.mean(axis=1)).T\n",
        "Bahrain"
      ],
      "execution_count": 74,
      "outputs": [
        {
          "output_type": "execute_result",
          "data": {
            "text/html": [
              "<div>\n",
              "<style scoped>\n",
              "    .dataframe tbody tr th:only-of-type {\n",
              "        vertical-align: middle;\n",
              "    }\n",
              "\n",
              "    .dataframe tbody tr th {\n",
              "        vertical-align: top;\n",
              "    }\n",
              "\n",
              "    .dataframe thead th {\n",
              "        text-align: right;\n",
              "    }\n",
              "</style>\n",
              "<table border=\"1\" class=\"dataframe\">\n",
              "  <thead>\n",
              "    <tr style=\"text-align: right;\">\n",
              "      <th></th>\n",
              "      <th>Country</th>\n",
              "      <th>Code</th>\n",
              "      <th>Product label</th>\n",
              "      <th>Imported value in 2015</th>\n",
              "      <th>Imported value in 2016</th>\n",
              "      <th>Imported value in 2017</th>\n",
              "      <th>Imported value in 2018</th>\n",
              "      <th>Imported value in 2019</th>\n",
              "    </tr>\n",
              "  </thead>\n",
              "  <tbody>\n",
              "    <tr>\n",
              "      <th>0</th>\n",
              "      <td>Bahrain</td>\n",
              "      <td>'070200</td>\n",
              "      <td>Tomatoes, fresh or chilled</td>\n",
              "      <td>11661</td>\n",
              "      <td>13054</td>\n",
              "      <td>11962</td>\n",
              "      <td>13963</td>\n",
              "      <td>17583</td>\n",
              "    </tr>\n",
              "    <tr>\n",
              "      <th>1</th>\n",
              "      <td>Bahrain</td>\n",
              "      <td>'070999</td>\n",
              "      <td>Fresh or chilled vegetables n.e.s.</td>\n",
              "      <td>14312</td>\n",
              "      <td>15631</td>\n",
              "      <td>18468</td>\n",
              "      <td>16614</td>\n",
              "      <td>11934</td>\n",
              "    </tr>\n",
              "    <tr>\n",
              "      <th>2</th>\n",
              "      <td>Bahrain</td>\n",
              "      <td>'070310</td>\n",
              "      <td>Fresh or chilled onions and shallots</td>\n",
              "      <td>16714</td>\n",
              "      <td>11541</td>\n",
              "      <td>13750</td>\n",
              "      <td>15774</td>\n",
              "      <td>11803</td>\n",
              "    </tr>\n",
              "    <tr>\n",
              "      <th>3</th>\n",
              "      <td>Bahrain</td>\n",
              "      <td>'070960</td>\n",
              "      <td>Fresh or chilled fruits of the genus Capsicum ...</td>\n",
              "      <td>7474</td>\n",
              "      <td>9401</td>\n",
              "      <td>9691</td>\n",
              "      <td>8852</td>\n",
              "      <td>8711</td>\n",
              "    </tr>\n",
              "    <tr>\n",
              "      <th>4</th>\n",
              "      <td>Bahrain</td>\n",
              "      <td>'070190</td>\n",
              "      <td>Fresh or chilled potatoes (excluding seed)</td>\n",
              "      <td>10184</td>\n",
              "      <td>10657</td>\n",
              "      <td>11530</td>\n",
              "      <td>12031</td>\n",
              "      <td>6606</td>\n",
              "    </tr>\n",
              "    <tr>\n",
              "      <th>...</th>\n",
              "      <td>...</td>\n",
              "      <td>...</td>\n",
              "      <td>...</td>\n",
              "      <td>...</td>\n",
              "      <td>...</td>\n",
              "      <td>...</td>\n",
              "      <td>...</td>\n",
              "      <td>...</td>\n",
              "    </tr>\n",
              "    <tr>\n",
              "      <th>67</th>\n",
              "      <td>Bahrain</td>\n",
              "      <td>'071130</td>\n",
              "      <td>Capers provisionally preserved, e.g. by sulphu...</td>\n",
              "      <td>0</td>\n",
              "      <td>0</td>\n",
              "      <td>0</td>\n",
              "      <td>0</td>\n",
              "      <td>0</td>\n",
              "    </tr>\n",
              "    <tr>\n",
              "      <th>68</th>\n",
              "      <td>Bahrain</td>\n",
              "      <td>'071110</td>\n",
              "      <td>Onions provisionally preserved, e.g. by sulphu...</td>\n",
              "      <td>0</td>\n",
              "      <td>0</td>\n",
              "      <td>0</td>\n",
              "      <td>0</td>\n",
              "      <td>0</td>\n",
              "    </tr>\n",
              "    <tr>\n",
              "      <th>69</th>\n",
              "      <td>Bahrain</td>\n",
              "      <td>'070990</td>\n",
              "      <td>Fresh or chilled vegetables (excluding potatoe...</td>\n",
              "      <td>2</td>\n",
              "      <td>0</td>\n",
              "      <td>0</td>\n",
              "      <td>0</td>\n",
              "      <td>0.5</td>\n",
              "    </tr>\n",
              "    <tr>\n",
              "      <th>70</th>\n",
              "      <td>Bahrain</td>\n",
              "      <td>'070952</td>\n",
              "      <td>Fresh or chilled truffles</td>\n",
              "      <td>0</td>\n",
              "      <td>0</td>\n",
              "      <td>0</td>\n",
              "      <td>0</td>\n",
              "      <td>0</td>\n",
              "    </tr>\n",
              "    <tr>\n",
              "      <th>71</th>\n",
              "      <td>Bahrain</td>\n",
              "      <td>'070910</td>\n",
              "      <td>Fresh or chilled globe artichokes</td>\n",
              "      <td>0</td>\n",
              "      <td>0</td>\n",
              "      <td>0</td>\n",
              "      <td>0</td>\n",
              "      <td>0</td>\n",
              "    </tr>\n",
              "  </tbody>\n",
              "</table>\n",
              "<p>72 rows × 8 columns</p>\n",
              "</div>"
            ],
            "text/plain": [
              "    Country     Code  ... Imported value in 2018 Imported value in 2019\n",
              "0   Bahrain  '070200  ...                  13963                  17583\n",
              "1   Bahrain  '070999  ...                  16614                  11934\n",
              "2   Bahrain  '070310  ...                  15774                  11803\n",
              "3   Bahrain  '070960  ...                   8852                   8711\n",
              "4   Bahrain  '070190  ...                  12031                   6606\n",
              "..      ...      ...  ...                    ...                    ...\n",
              "67  Bahrain  '071130  ...                      0                      0\n",
              "68  Bahrain  '071110  ...                      0                      0\n",
              "69  Bahrain  '070990  ...                      0                    0.5\n",
              "70  Bahrain  '070952  ...                      0                      0\n",
              "71  Bahrain  '070910  ...                      0                      0\n",
              "\n",
              "[72 rows x 8 columns]"
            ]
          },
          "metadata": {
            "tags": []
          },
          "execution_count": 74
        }
      ]
    },
    {
      "cell_type": "code",
      "metadata": {
        "colab": {
          "base_uri": "https://localhost:8080/",
          "height": 419
        },
        "id": "u4WPpAgVEXYW",
        "outputId": "70ad2771-f1f6-46de-83ce-b854b7bb9427"
      },
      "source": [
        "# Merge Datasets\n",
        "df1 = pd.concat([UAE, Saudi])\n",
        "df2 = pd.concat([df1, Qatar])\n",
        "df3 = pd.concat([df2, Oman])\n",
        "df4 = pd.concat([df3, Kuwait])\n",
        "GCC = pd.concat([df4, Bahrain])\n",
        "GCC"
      ],
      "execution_count": 75,
      "outputs": [
        {
          "output_type": "execute_result",
          "data": {
            "text/html": [
              "<div>\n",
              "<style scoped>\n",
              "    .dataframe tbody tr th:only-of-type {\n",
              "        vertical-align: middle;\n",
              "    }\n",
              "\n",
              "    .dataframe tbody tr th {\n",
              "        vertical-align: top;\n",
              "    }\n",
              "\n",
              "    .dataframe thead th {\n",
              "        text-align: right;\n",
              "    }\n",
              "</style>\n",
              "<table border=\"1\" class=\"dataframe\">\n",
              "  <thead>\n",
              "    <tr style=\"text-align: right;\">\n",
              "      <th></th>\n",
              "      <th>Country</th>\n",
              "      <th>Code</th>\n",
              "      <th>Product label</th>\n",
              "      <th>Imported value in 2015</th>\n",
              "      <th>Imported value in 2016</th>\n",
              "      <th>Imported value in 2017</th>\n",
              "      <th>Imported value in 2018</th>\n",
              "      <th>Imported value in 2019</th>\n",
              "    </tr>\n",
              "  </thead>\n",
              "  <tbody>\n",
              "    <tr>\n",
              "      <th>0</th>\n",
              "      <td>UAE</td>\n",
              "      <td>'071340</td>\n",
              "      <td>Dried, shelled lentils, whether or not skinned...</td>\n",
              "      <td>188755</td>\n",
              "      <td>175534</td>\n",
              "      <td>209892</td>\n",
              "      <td>103223</td>\n",
              "      <td>114192</td>\n",
              "    </tr>\n",
              "    <tr>\n",
              "      <th>1</th>\n",
              "      <td>UAE</td>\n",
              "      <td>'070999</td>\n",
              "      <td>Fresh or chilled vegetables n.e.s.</td>\n",
              "      <td>116338</td>\n",
              "      <td>110513</td>\n",
              "      <td>109182</td>\n",
              "      <td>100864</td>\n",
              "      <td>98916</td>\n",
              "    </tr>\n",
              "    <tr>\n",
              "      <th>2</th>\n",
              "      <td>UAE</td>\n",
              "      <td>'070310</td>\n",
              "      <td>Fresh or chilled onions and shallots</td>\n",
              "      <td>123905</td>\n",
              "      <td>88588</td>\n",
              "      <td>114034</td>\n",
              "      <td>90827</td>\n",
              "      <td>89108</td>\n",
              "    </tr>\n",
              "    <tr>\n",
              "      <th>3</th>\n",
              "      <td>UAE</td>\n",
              "      <td>'070200</td>\n",
              "      <td>Tomatoes, fresh or chilled</td>\n",
              "      <td>128674</td>\n",
              "      <td>127201</td>\n",
              "      <td>115782</td>\n",
              "      <td>100664</td>\n",
              "      <td>86473</td>\n",
              "    </tr>\n",
              "    <tr>\n",
              "      <th>4</th>\n",
              "      <td>UAE</td>\n",
              "      <td>'071320</td>\n",
              "      <td>Dried, shelled chickpeas \"garbanzos\", whether ...</td>\n",
              "      <td>72242</td>\n",
              "      <td>104932</td>\n",
              "      <td>160872</td>\n",
              "      <td>94462</td>\n",
              "      <td>65450</td>\n",
              "    </tr>\n",
              "    <tr>\n",
              "      <th>...</th>\n",
              "      <td>...</td>\n",
              "      <td>...</td>\n",
              "      <td>...</td>\n",
              "      <td>...</td>\n",
              "      <td>...</td>\n",
              "      <td>...</td>\n",
              "      <td>...</td>\n",
              "      <td>...</td>\n",
              "    </tr>\n",
              "    <tr>\n",
              "      <th>67</th>\n",
              "      <td>Bahrain</td>\n",
              "      <td>'071130</td>\n",
              "      <td>Capers provisionally preserved, e.g. by sulphu...</td>\n",
              "      <td>0</td>\n",
              "      <td>0</td>\n",
              "      <td>0</td>\n",
              "      <td>0</td>\n",
              "      <td>0</td>\n",
              "    </tr>\n",
              "    <tr>\n",
              "      <th>68</th>\n",
              "      <td>Bahrain</td>\n",
              "      <td>'071110</td>\n",
              "      <td>Onions provisionally preserved, e.g. by sulphu...</td>\n",
              "      <td>0</td>\n",
              "      <td>0</td>\n",
              "      <td>0</td>\n",
              "      <td>0</td>\n",
              "      <td>0</td>\n",
              "    </tr>\n",
              "    <tr>\n",
              "      <th>69</th>\n",
              "      <td>Bahrain</td>\n",
              "      <td>'070990</td>\n",
              "      <td>Fresh or chilled vegetables (excluding potatoe...</td>\n",
              "      <td>2</td>\n",
              "      <td>0</td>\n",
              "      <td>0</td>\n",
              "      <td>0</td>\n",
              "      <td>0.5</td>\n",
              "    </tr>\n",
              "    <tr>\n",
              "      <th>70</th>\n",
              "      <td>Bahrain</td>\n",
              "      <td>'070952</td>\n",
              "      <td>Fresh or chilled truffles</td>\n",
              "      <td>0</td>\n",
              "      <td>0</td>\n",
              "      <td>0</td>\n",
              "      <td>0</td>\n",
              "      <td>0</td>\n",
              "    </tr>\n",
              "    <tr>\n",
              "      <th>71</th>\n",
              "      <td>Bahrain</td>\n",
              "      <td>'070910</td>\n",
              "      <td>Fresh or chilled globe artichokes</td>\n",
              "      <td>0</td>\n",
              "      <td>0</td>\n",
              "      <td>0</td>\n",
              "      <td>0</td>\n",
              "      <td>0</td>\n",
              "    </tr>\n",
              "  </tbody>\n",
              "</table>\n",
              "<p>425 rows × 8 columns</p>\n",
              "</div>"
            ],
            "text/plain": [
              "    Country     Code  ... Imported value in 2018 Imported value in 2019\n",
              "0       UAE  '071340  ...                 103223                 114192\n",
              "1       UAE  '070999  ...                 100864                  98916\n",
              "2       UAE  '070310  ...                  90827                  89108\n",
              "3       UAE  '070200  ...                 100664                  86473\n",
              "4       UAE  '071320  ...                  94462                  65450\n",
              "..      ...      ...  ...                    ...                    ...\n",
              "67  Bahrain  '071130  ...                      0                      0\n",
              "68  Bahrain  '071110  ...                      0                      0\n",
              "69  Bahrain  '070990  ...                      0                    0.5\n",
              "70  Bahrain  '070952  ...                      0                      0\n",
              "71  Bahrain  '070910  ...                      0                      0\n",
              "\n",
              "[425 rows x 8 columns]"
            ]
          },
          "metadata": {
            "tags": []
          },
          "execution_count": 75
        }
      ]
    },
    {
      "cell_type": "code",
      "metadata": {
        "colab": {
          "base_uri": "https://localhost:8080/"
        },
        "id": "BqIxVzRxFncr",
        "outputId": "3bb58f75-a1fa-40da-f898-56ec46eddb18"
      },
      "source": [
        "# Finding Null Values and replacing them with 0\n",
        "GCC.isnull().sum()"
      ],
      "execution_count": 76,
      "outputs": [
        {
          "output_type": "execute_result",
          "data": {
            "text/plain": [
              "Country                   0\n",
              "Code                      0\n",
              "Product label             0\n",
              "Imported value in 2015    0\n",
              "Imported value in 2016    0\n",
              "Imported value in 2017    0\n",
              "Imported value in 2018    0\n",
              "Imported value in 2019    0\n",
              "dtype: int64"
            ]
          },
          "metadata": {
            "tags": []
          },
          "execution_count": 76
        }
      ]
    },
    {
      "cell_type": "code",
      "metadata": {
        "colab": {
          "base_uri": "https://localhost:8080/"
        },
        "id": "aeC0OZOHk8Dm",
        "outputId": "2c7c6c0a-a3aa-4bfa-c8ba-0f32ece0d2dd"
      },
      "source": [
        "GCC[\"Product label\"].value_counts()"
      ],
      "execution_count": 66,
      "outputs": [
        {
          "output_type": "execute_result",
          "data": {
            "text/plain": [
              "Fresh or chilled globe artichokes                                                                       12\n",
              "Fresh or chilled salad beetroot, salsify, celeriac, radishes and similar edible roots (excluding ...     6\n",
              "Dried, shelled cow peas \"Vigna unguiculata\", whether or not skinned or split                             6\n",
              "Dried, shelled broad beans \"Vicia faba var. major\" and horse beans \"Vicia faba var. equina ...           6\n",
              "Fresh or chilled cabbage lettuce                                                                         6\n",
              "                                                                                                        ..\n",
              "Fresh or chilled truffles                                                                                5\n",
              "Capers provisionally preserved, e.g. by sulphur dioxide gas, in brine, in sulphur water or ...           4\n",
              "Dried mushrooms and truffles, whole, cut, sliced, broken or in powder, but not further prepared          4\n",
              "Onions provisionally preserved, e.g. by sulphur dioxide gas, in brine, in sulphur water or ...           2\n",
              "Yautia \"Xanthosoma spp.\", fresh, chilled, frozen or dried, whether or not sliced or in the ...           2\n",
              "Name: Product label, Length: 72, dtype: int64"
            ]
          },
          "metadata": {
            "tags": []
          },
          "execution_count": 66
        }
      ]
    },
    {
      "cell_type": "code",
      "metadata": {
        "id": "l0YkASk-lGRg"
      },
      "source": [
        ""
      ],
      "execution_count": 66,
      "outputs": []
    }
  ]
}